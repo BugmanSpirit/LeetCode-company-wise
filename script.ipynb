{
 "cells": [
  {
   "cell_type": "code",
   "execution_count": null,
   "id": "eacc36d3",
   "metadata": {},
   "outputs": [],
   "source": [
    "import pandas as pd\n",
    "import xlsxwriter\n",
    "import glob\n",
    "import re"
   ]
  },
  {
   "cell_type": "code",
   "execution_count": null,
   "id": "2328ba26",
   "metadata": {},
   "outputs": [],
   "source": [
    "files = [str(file).split('\\\\')[-1] for file in glob.glob('./CSVs/*.csv')]\n",
    "\n",
    "companies = set( str(file).split('_')[0] for file in files )\n",
    "\n",
    "formated_company_names = [name.replace('-', ' ').title().strip() for name in companies]\n",
    "\n",
    "col_names = ['a', 'Title', 'Acceptance', 'Level', 'e', 'Link']"
   ]
  },
  {
   "cell_type": "code",
   "execution_count": null,
   "id": "1dcf6310",
   "metadata": {},
   "outputs": [],
   "source": [
    "def excel_hyperlink(title, link):\n",
    "    return '=HYPERLINK(\"{}\", \"{}\")'.format(link, title)\n",
    "\n",
    "def make_excel(company):\n",
    "    df = pd.concat(map(lambda x: pd.read_csv(x, names=col_names), \n",
    "                       glob.glob('CSVs/' + company + '_*.csv')), ignore_index=True)\n",
    "\n",
    "    \n",
    "    df['Title'] = df['Title'].apply(lambda x: str(x).strip())\n",
    "    df['Link'] = df['Link'].apply(lambda x: str(x).strip())\n",
    "    \n",
    "    df = df.drop_duplicates(keep=\"first\", subset=['Title', 'Link'])\n",
    "    df['Title'] = df.apply(lambda x: excel_hyperlink(x.Title, x.Link), axis=1)\n",
    "    \n",
    "    df = df.drop(['a', 'e', 'Link'], axis=1)\n",
    "    \n",
    "    df = df.sort_values(by=['Acceptance'], ascending=False)\n",
    "    df['Level'] = pd.Categorical(df['Level'],categories=['Easy', 'Medium', 'Hard'],ordered=True)\n",
    "    df = df.sort_values('Level', kind='stable', ascending=True)\n",
    "    \n",
    "    df.to_excel('./Excels/' + company + '.xlsx', header=True, index=False, index_label=False, engine='xlsxwriter')\n"
   ]
  },
  {
   "cell_type": "code",
   "execution_count": null,
   "id": "c67562e4",
   "metadata": {},
   "outputs": [],
   "source": [
    "def make_md(company):\n",
    "    df = pd.concat(map(lambda x: pd.read_csv(x, names=col_names), \n",
    "                       glob.glob('CSVs/' + company + '_*.csv')), ignore_index=True)\n",
    "\n",
    "    \n",
    "    df['Title'] = df['Title'].apply(lambda x: str(x).strip())\n",
    "    df['Link'] = df['Link'].apply(lambda x: str(x).strip())\n",
    "    \n",
    "    df = df.drop_duplicates(keep=\"first\", subset=['Title', 'Link'])\n",
    "    df['Title'] = df.apply(lambda x: '['+x.Title+']('+x.Link+')', axis=1)\n",
    "    \n",
    "    df = df.drop(['a', 'e', 'Link'], axis=1)\n",
    "    \n",
    "    df = df.sort_values(by=['Acceptance'], ascending=False)\n",
    "    df['Level'] = pd.Categorical(df['Level'],categories=['Easy', 'Medium', 'Hard'],ordered=True)\n",
    "    df = df.sort_values('Level', kind='stable', ascending=True)\n",
    "    \n",
    "    df.to_markdown(buf='./list/' + company + '.md', index=False, tablefmt=\"github\")\n",
    "\n",
    "for company in companies:\n",
    "    make_md(company)\n",
    "    make_excel(company)"
   ]
  },
  {
   "cell_type": "code",
   "execution_count": null,
   "id": "495760e6",
   "metadata": {},
   "outputs": [],
   "source": [
    "content = ['[' + company.replace('-', ' ').title().strip() + '](./list/' + company + '.md)'\n",
    "                   for company in companies]\n",
    "    \n",
    "content.sort()\n",
    "matrix = []\n",
    "while content != []:\n",
    "    matrix.append(content[:3])\n",
    "    content = content[3:]\n",
    "    \n",
    "from tabulate import tabulate\n",
    "\n",
    "with open('index.md', 'x') as fp:\n",
    "    fp.write(tabulate(matrix, headers=[\"\", \"\", \"\", \"\"], tablefmt=\"github\" )) \n",
    "    \n",
    "with open('README.md', 'a') as fp:\n",
    "    fp.write(tabulate(matrix, headers=[\"\", \"\", \"\", \"\"], tablefmt=\"github\" ))"
   ]
  }
 ],
 "metadata": {
  "kernelspec": {
   "display_name": "Python 3 (ipykernel)",
   "language": "python",
   "name": "python3"
  },
  "language_info": {
   "codemirror_mode": {
    "name": "ipython",
    "version": 3
   },
   "file_extension": ".py",
   "mimetype": "text/x-python",
   "name": "python",
   "nbconvert_exporter": "python",
   "pygments_lexer": "ipython3",
   "version": "3.10.4"
  }
 },
 "nbformat": 4,
 "nbformat_minor": 5
}
